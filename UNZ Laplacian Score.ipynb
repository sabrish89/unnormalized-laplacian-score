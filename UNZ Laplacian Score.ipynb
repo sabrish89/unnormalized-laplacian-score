{
 "cells": [
  {
   "cell_type": "code",
   "execution_count": 1,
   "metadata": {},
   "outputs": [],
   "source": [
    "def get_laplacian_scored(X,k=5,n=5):\n",
    "    ''' Gets the top k parameters as per locality preservation adherence\n",
    "        k: top k locality/nn graph preserving features\n",
    "        n: nearest neighbor graph hyperparameter\n",
    "        Returns: indices of top k features/columns of X\n",
    "        \n",
    "        Requirements:\n",
    "        1.\n",
    "        import numpy as np\n",
    "        import scipy as sp\n",
    "        from sklearn.neighbors import NearestNeighbors\n",
    "        2.\n",
    "        X is numeric and does not have Nulls or NaNs\n",
    "        \n",
    "        Demonstration:\n",
    "        from sklearn.datasets import load_iris\n",
    "        data = load_iris().data\n",
    "        features = load_iris().feature_names\n",
    "        [features[idx] for idx in get_laplacian_scored(data,k=2,n=2)]\n",
    "    '''\n",
    "    if  type(X) != np.ndarray:\n",
    "        X = np.asarray(X)\n",
    "    nbrs = NearestNeighbors(n_neighbors=n, algorithm='ball_tree').fit(X)\n",
    "    G = nbrs.kneighbors()[1]\n",
    "    S = []\n",
    "    for i in range(len(G)):\n",
    "        s = []\n",
    "        for j in range(len(G)):\n",
    "            if j in G[i,:]:\n",
    "                s.append(np.exp(-1*sp.spatial.distance.euclidean(u=X[i],v=X[j])))\n",
    "            else:\n",
    "                s.append(0)\n",
    "        S.append(s)\n",
    "    S = np.array(S)\n",
    "    d1 = np.ones(X.shape[0])\n",
    "    factor_space = np.linalg.multi_dot([S,d1.transpose()])\n",
    "    D = np.multiply(np.identity(X.shape[0]),factor_space)\n",
    "    L = D - S\n",
    "    f_n = []\n",
    "    for j in range(X.shape[1]):\n",
    "        f = X[:,j]\n",
    "        f_n.append(f - np.multiply(np.linalg.multi_dot([np.linalg.multi_dot([f.transpose(),D]),d1])/np.linalg.multi_dot([np.linalg.multi_dot([d1.transpose(),D]),d1]),d1))\n",
    "    f_n = np.array(f_n)\n",
    "    lr = []\n",
    "    for j in range(f_n.shape[0]):\n",
    "        lr.append(np.linalg.multi_dot([np.linalg.multi_dot([f_n[j].transpose(),L]),f_n[j]])/np.linalg.multi_dot([np.linalg.multi_dot([f_n[j].transpose(),D]),f_n[j]]))\n",
    "    sorted_idx = np.argsort(lr)\n",
    "    return sorted_idx[:k]"
   ]
  }
 ],
 "metadata": {
  "kernelspec": {
   "display_name": "Python 3",
   "language": "python",
   "name": "python3"
  },
  "language_info": {
   "codemirror_mode": {
    "name": "ipython",
    "version": 3
   },
   "file_extension": ".py",
   "mimetype": "text/x-python",
   "name": "python",
   "nbconvert_exporter": "python",
   "pygments_lexer": "ipython3",
   "version": "3.7.0"
  }
 },
 "nbformat": 4,
 "nbformat_minor": 2
}
